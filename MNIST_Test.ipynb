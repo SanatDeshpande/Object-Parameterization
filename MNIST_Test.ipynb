{
 "cells": [
  {
   "cell_type": "code",
   "execution_count": 2,
   "metadata": {},
   "outputs": [
    {
     "name": "stderr",
     "output_type": "stream",
     "text": [
      "Using TensorFlow backend.\n"
     ]
    }
   ],
   "source": [
    "import keras\n",
    "from keras.layers import Conv2D\n",
    "from keras.layers import ConvLSTM2D\n",
    "from keras.layers import Dropout\n",
    "from keras.layers import Dense\n",
    "from keras.layers import BatchNormalization\n",
    "from keras.layers import Activation\n",
    "from keras.layers import Reshape\n",
    "from keras.layers import Softmax\n",
    "from keras.layers import MaxPooling2D\n",
    "from keras.models import Sequential\n",
    "\n",
    "from keras.datasets import mnist\n",
    "import matplotlib.pyplot as plt\n",
    "\n",
    "import numpy as np"
   ]
  },
  {
   "cell_type": "code",
   "execution_count": 3,
   "metadata": {},
   "outputs": [
    {
     "data": {
      "image/png": "[encoded data removed]",
      "text/plain": [
       "<Figure size 1008x1008 with 4 Axes>"
      ]
     },
     "metadata": {
      "needs_background": "light"
     },
     "output_type": "display_data"
    }
   ],
   "source": [
    "(x_train, y_train), (x_test, y_test) = mnist.load_data()\n",
    "# x_train = x_train.reshape(-1, 28, 28, 1)\n",
    "# x_test = x_test.reshape(-1, 28, 28, 1)\n",
    "y = [[1 if i == j else 0 for i in range(10)] for j in y_train]\n",
    "y_train = np.asarray(y)\n",
    "y = [[1 if i == j else 0 for i in range(10)] for j in y_test]\n",
    "y_test = np.asarray(y)\n",
    "\n",
    "#turns into sequences\n",
    "x = [x_train, x_test]\n",
    "for index in range(len(x)):\n",
    "    train_seq = np.zeros((len(x[index]), 4, 14, 14))\n",
    "    for i in range(len(x[index])):\n",
    "        train_seq[i][0] = x[index][i][0:14, 0:14]\n",
    "        train_seq[i][1] = x[index][i][0:14, 14:28]\n",
    "        train_seq[i][2] = x[index][i][14:28, 0:14]\n",
    "        train_seq[i][3] = x[index][i][14:28, 14:28]\n",
    "    train_seq = train_seq.reshape(-1, 4, 14, 14, 1)\n",
    "    x[index] = train_seq\n",
    "x_train = x[0]\n",
    "x_test = x[1]\n",
    "\n",
    "\n",
    "#displays how a random digit is split up into 4\n",
    "fig = plt.figure(figsize=(14,14))\n",
    "sample = np.random.randint(len(x_train))\n",
    "fig.add_subplot(2,2, 1)\n",
    "plt.imshow(x_train[sample, 0].reshape(14,14) , cmap='gray')\n",
    "fig.add_subplot(2,2, 2)\n",
    "plt.imshow(x_train[sample, 1].reshape(14,14) , cmap='gray')\n",
    "fig.add_subplot(2,2, 3)\n",
    "plt.imshow(x_train[sample, 2].reshape(14,14) , cmap='gray')\n",
    "fig.add_subplot(2,2, 4)\n",
    "plt.imshow(x_train[sample, 3].reshape(14,14) , cmap='gray')\n",
    "plt.show()"
   ]
  },
  {
   "cell_type": "code",
   "execution_count": 4,
   "metadata": {},
   "outputs": [],
   "source": [
    "'''\n",
    "Equivalent non-reccurent model would have 78,560 parameters to learn.\n",
    "40 2x2 convolutions plus a 1960x10 dense layer yields 78,560 parameters.\n",
    "\n",
    "This LSTM learns only 46,170 parameters\n",
    "'''\n",
    "model = Sequential()\n",
    "\n",
    "model.add(ConvLSTM2D(40, kernel_size=(2,2), padding=\"same\", input_shape=(4,14,14,1)))\n",
    "model.add(BatchNormalization())\n",
    "model.add(Activation(\"relu\"))\n",
    "model.add(MaxPooling2D((2,2)))\n",
    "model.add(Dropout(rate=.2))\n",
    "\n",
    "model.add(Reshape((1960,)))\n",
    "model.add(Dense(10))\n",
    "model.add(Activation(\"softmax\"))"
   ]
  },
  {
   "cell_type": "code",
   "execution_count": 5,
   "metadata": {},
   "outputs": [],
   "source": [
    "model.compile(loss=\"categorical_crossentropy\", optimizer=\"adam\", metrics=[\"accuracy\"])"
   ]
  },
  {
   "cell_type": "code",
   "execution_count": 6,
   "metadata": {},
   "outputs": [
    {
     "name": "stdout",
     "output_type": "stream",
     "text": [
      "Train on 60000 samples, validate on 10000 samples\n",
      "Epoch 1/1\n",
      "60000/60000 [==============================] - 328s 5ms/step - loss: 0.2326 - acc: 0.9282 - val_loss: 0.1265 - val_acc: 0.9614\n"
     ]
    },
    {
     "data": {
      "text/plain": [
       "<keras.callbacks.History at 0x1047e76d8>"
      ]
     },
     "execution_count": 6,
     "metadata": {},
     "output_type": "execute_result"
    }
   ],
   "source": [
    "model.fit(x_train, y_train, shuffle=True, batch_size=16, epochs=1, validation_data=(x_test, y_test))"
   ]
  },
  {
   "cell_type": "code",
   "execution_count": 12,
   "metadata": {},
   "outputs": [
    {
     "name": "stdout",
     "output_type": "stream",
     "text": [
      "predicted: 7 real: 2\n",
      "[[8.7581488e-05 1.2267997e-06 1.6553329e-01 5.0162309e-04 6.0647729e-08\n",
      "  1.1773963e-06 9.3602439e-06 6.5994269e-01 1.7391363e-01 9.3573790e-06]]\n"
     ]
    },
    {
     "data": {
      "image/png": "[encoded data removed]",
      "text/plain": [
       "<Figure size 432x288 with 1 Axes>"
      ]
     },
     "metadata": {
      "needs_background": "light"
     },
     "output_type": "display_data"
    }
   ],
   "source": [
    "#visualize misclassifications\n",
    "\n",
    "misclassified = np.zeros((28,28))\n",
    "correct = True\n",
    "while correct:\n",
    "    i = np.random.randint(len(x_test))\n",
    "    y_hat = model.predict(x_test[i].reshape(-1, 4, 14, 14, 1))\n",
    "    y_hat = np.argmax(y_hat)\n",
    "    y_ground = np.argmax(y_test[i])\n",
    "    if y_hat != y_ground:\n",
    "        correct = False\n",
    "        example = x_test[i].reshape(4, 14, 14)\n",
    "        misclassified[0:14, 0:14] = example[0]\n",
    "        misclassified[0:14, 14:28] = example[1]\n",
    "        misclassified[14:28, 0:14] = example[2]\n",
    "        misclassified[14:28, 14:28] = example[3]\n",
    "        print(\"predicted:\", y_hat, \"real:\", y_ground)\n",
    "        print(model.predict(x_test[i].reshape(-1, 4, 14, 14, 1)))\n",
    "\n",
    "plt.imshow(misclassified, cmap='gray')\n",
    "plt.show()\n"
   ]
  },
  {
   "cell_type": "code",
   "execution_count": null,
   "metadata": {},
   "outputs": [],
   "source": []
  }
 ],
 "metadata": {
  "kernelspec": {
   "display_name": "Python 3",
   "language": "python",
   "name": "python3"
  },
  "language_info": {
   "codemirror_mode": {
    "name": "ipython",
    "version": 3
   },
   "file_extension": ".py",
   "mimetype": "text/x-python",
   "name": "python",
   "nbconvert_exporter": "python",
   "pygments_lexer": "ipython3",
   "version": "3.5.2"
  }
 },
 "nbformat": 4,
 "nbformat_minor": 2
}
